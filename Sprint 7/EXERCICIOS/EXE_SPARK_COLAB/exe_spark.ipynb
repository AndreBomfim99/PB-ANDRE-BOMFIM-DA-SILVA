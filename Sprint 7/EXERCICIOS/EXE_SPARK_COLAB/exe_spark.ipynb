{
  "cells": [
    {
      "cell_type": "code",
      "execution_count": 1,
      "metadata": {
        "colab": {
          "base_uri": "https://localhost:8080/"
        },
        "id": "h9qIXfUCF98L",
        "outputId": "c8cfa377-c02e-4905-e997-1f3f552a665f"
      },
      "outputs": [
        {
          "name": "stdout",
          "output_type": "stream",
          "text": [
            "Requirement already satisfied: pyspark in /usr/local/lib/python3.10/dist-packages (3.5.3)\n",
            "Requirement already satisfied: py4j==0.10.9.7 in /usr/local/lib/python3.10/dist-packages (from pyspark) (0.10.9.7)\n"
          ]
        }
      ],
      "source": [
        "!pip install pyspark"
      ]
    },
    {
      "cell_type": "code",
      "execution_count": 2,
      "metadata": {
        "colab": {
          "base_uri": "https://localhost:8080/"
        },
        "id": "NBBax_AgG-Ub",
        "outputId": "0a6663f4-cca9-43fe-d0de-9a2928f3ebc5"
      },
      "outputs": [
        {
          "name": "stdout",
          "output_type": "stream",
          "text": [
            "SparkSession foi criado\n"
          ]
        }
      ],
      "source": [
        "from pyspark.sql import SparkSession\n",
        "spark = SparkSession.builder.master(\"local[*]\").appName(\"WordCount\").getOrCreate()\n",
        "print(\"SparkSession foi criado\")"
      ]
    },
    {
      "cell_type": "code",
      "execution_count": 5,
      "metadata": {
        "colab": {
          "base_uri": "https://localhost:8080/"
        },
        "id": "VDFsNrj8O-W0",
        "outputId": "994bcf56-45da-4a82-afd7-c2662b8aa190"
      },
      "outputs": [
        {
          "name": "stdout",
          "output_type": "stream",
          "text": [
            "--2024-12-19 14:04:25--  https://raw.githubusercontent.com/AndreBomfim99/PB-ANDRE-BOMFIM-DA-SILVA/refs/heads/main/README.MD?token=GHSAT0AAAAAAC3LHA4RJBMXHILMPTQREHKCZ3EE7MA\n",
            "Resolving raw.githubusercontent.com (raw.githubusercontent.com)... 185.199.111.133, 185.199.110.133, 185.199.108.133, ...\n",
            "Connecting to raw.githubusercontent.com (raw.githubusercontent.com)|185.199.111.133|:443... connected.\n",
            "HTTP request sent, awaiting response... 200 OK\n",
            "Length: 2656 (2.6K) [text/plain]\n",
            "Saving to: ‘README.md’\n",
            "\n",
            "\rREADME.md             0%[                    ]       0  --.-KB/s               \rREADME.md           100%[===================>]   2.59K  --.-KB/s    in 0s      \n",
            "\n",
            "2024-12-19 14:04:26 (36.1 MB/s) - ‘README.md’ saved [2656/2656]\n",
            "\n"
          ]
        }
      ],
      "source": [
        "https://raw.githubusercontent.com/AndreBomfim99/PB-ANDRE-BOMFIM-DA-SILVA/refs/heads/main/README.MD?token=GHSAT0AAAAAAC3LHA4RJBMXHILMPTQREHKCZ3EE7MA -O README.md"
      ]
    },
    {
      "cell_type": "code",
      "execution_count": 6,
      "metadata": {
        "colab": {
          "base_uri": "https://localhost:8080/"
        },
        "id": "OZ8dsI1zTCWV",
        "outputId": "3384ae68-e996-4c1f-c555-bdc5a945ff63"
      },
      "outputs": [
        {
          "name": "stdout",
          "output_type": "stream",
          "text": [
            "-rw-r--r-- 1 root root 2656 Dec 19 14:04 README.md\n"
          ]
        }
      ],
      "source": [
        "!ls -l README.md"
      ]
    },
    {
      "cell_type": "code",
      "execution_count": 7,
      "metadata": {
        "id": "tXyGltz4XMBt"
      },
      "outputs": [],
      "source": [
        "rdd = spark.sparkContext.textFile(\"README.md\")\n"
      ]
    },
    {
      "cell_type": "code",
      "execution_count": 8,
      "metadata": {
        "colab": {
          "base_uri": "https://localhost:8080/"
        },
        "id": "f7ykqm9ubIJG",
        "outputId": "ab0ddd96-9cbc-4480-e71b-61b5ff509738"
      },
      "outputs": [
        {
          "name": "stdout",
          "output_type": "stream",
          "text": [
            "#: 1\n",
            "chamo: 1\n",
            "Sobre: 1\n",
            "mim: 1\n",
            "|: 4\n",
            "![](img/foto.jpg): 1\n",
            "Localização:: 1\n",
            "Brasil: 1\n",
            "🏫: 1\n",
            "Instituição: 1\n",
            "ensino:: 1\n",
            "da: 4\n",
            "Computação: 1\n",
            "📅: 1\n",
            "Semestre: 2\n",
            "atual:: 1\n",
            "3º: 1\n",
            "Assistente: 1\n",
            "Técnico: 1\n",
            "Administrativo: 1\n",
            "Getúlio: 1\n",
            "no: 2\n",
            "perído: 1\n",
            "11/2021: 1\n",
            "onde: 2\n",
            "desenvolvia: 1\n",
            "dados: 3\n",
            "para: 2\n",
            "do: 3\n",
            "passagem: 1\n",
            "como: 6\n",
            "tecnólogo.: 1\n",
            "Conhecimentos:: 1\n",
            "Pandas,: 1\n",
            "AWS,: 2\n",
            "Java,: 1\n",
            "HTML,: 1\n",
            "CSS,: 1\n",
            "SQL,: 1\n",
            "Linguagem: 1\n",
            "PowerBI,: 1\n",
            "C,: 1\n",
            "Google: 1\n",
            "Cloud,: 1\n",
            "Docker,: 1\n",
            "Excel: 1\n",
            "avançado,: 1\n",
            "Github,: 1\n",
            "Autocad: 1\n",
            "🌍: 1\n",
            "Idiomas:: 1\n",
            "🎨: 1\n",
            "Hobbies:: 1\n",
            "Esportes,: 1\n",
            "dança: 1\n",
            "salão: 1\n",
            "Sprints: 1\n",
            "*: 6\n",
            "[Sprint: 6\n",
            "sobre: 7\n",
            "construção: 1\n",
            "scripts,: 1\n",
            "Git,: 1\n",
            "segurança: 1\n",
            "informação.: 1\n",
            "que: 3\n",
            "CompassUOL: 1\n",
            "espera: 1\n",
            "nós,: 1\n",
            "trabalho: 1\n",
            "as: 1\n",
            "exigências: 1\n",
            "serão: 1\n",
            "executei: 1\n",
            "16: 1\n",
            "SQL: 1\n",
            "um: 5\n",
            "curso: 1\n",
            "Partner: 1\n",
            "Sales: 1\n",
            "Como: 4\n",
            "desafio,: 1\n",
            "uma: 2\n",
            "elaborei: 1\n",
            "tabelas: 1\n",
            "dimensionais: 1\n",
            "partir: 1\n",
            "dela.: 1\n",
            "3](Sprint%203/): 1\n",
            "programação: 2\n",
            "Python: 1\n",
            "ela: 1\n",
            "aplicada: 1\n",
            "Analytics.: 2\n",
            "python: 4\n",
            "diversos.: 1\n",
            "processei: 1\n",
            "csv: 1\n",
            "gerei: 1\n",
            "gráficos: 1\n",
            "dessa: 1\n",
            "análise.: 1\n",
            "4](Sprint%204/): 1\n",
            "funções: 1\n",
            "primeira: 1\n",
            "ordem,: 1\n",
            "map,: 1\n",
            "reduce.: 1\n",
            "execução: 1\n",
            "dois: 1\n",
            "scripts: 1\n",
            "em: 2\n",
            "5](Sprint%205/): 1\n",
            "os: 3\n",
            "AWs: 1\n",
            "exercitei: 1\n",
            "situações: 1\n",
            "usarei: 1\n",
            "recursos: 1\n",
            "nuvem: 1\n",
            "AWS.: 1\n",
            "S3: 2\n",
            "exercício: 1\n",
            "6](Sprint%206/): 1\n",
            "aprofundei: 1\n",
            "Athena,: 1\n",
            "Glue,: 1\n",
            "EMR,: 1\n",
            "Redshift,: 1\n",
            "of: 1\n",
            "Analytics: 1\n",
            "Serveless: 1\n",
            "bucket: 1\n",
            "docker.: 1\n",
            "Olá,: 1\n",
            "prazer.: 1\n",
            "Me: 1\n",
            "André: 1\n",
            "Bomfim: 1\n",
            "##: 2\n",
            ":--------------------:: 1\n",
            "📍: 1\n",
            "São: 1\n",
            "Paulo,: 1\n",
            "de: 23\n",
            "UNIVESP: 1\n",
            "📚: 1\n",
            "Curso:: 1\n",
            "Engenharia: 1\n",
            "💼: 1\n",
            "Experiência:: 1\n",
            "na: 1\n",
            "Fundação: 1\n",
            "Vargas: 1\n",
            "FGV,: 1\n",
            "até: 1\n",
            "11/2023,: 1\n",
            "eu: 1\n",
            "trabalhos: 1\n",
            "análises: 1\n",
            "orgãos: 1\n",
            "governo: 1\n",
            "federal.: 1\n",
            "Também: 2\n",
            "tive: 1\n",
            "por: 1\n",
            "empresas: 1\n",
            "engenharia: 1\n",
            "civil: 1\n",
            "💡: 1\n",
            "Python,: 2\n",
            "Javascript,: 1\n",
            "PostgreSQL,: 1\n",
            "R,: 1\n",
            "C++,: 1\n",
            "Linux,: 2\n",
            "Kubernetes,: 1\n",
            "Inglês: 1\n",
            "intermediário: 1\n",
            "1](Sprint%201/): 1\n",
            ":: 6\n",
            "Nesta: 6\n",
            "sprint: 6\n",
            "aprendi: 7\n",
            "comandos: 3\n",
            "o: 4\n",
            "será: 1\n",
            "ritmo: 1\n",
            "e: 14\n",
            "nos: 1\n",
            "exigidas: 1\n",
            "nas: 1\n",
            "entregas: 1\n",
            "dos: 1\n",
            "desafio.: 1\n",
            "2](Sprint%202/): 1\n",
            "conceitos: 1\n",
            "Data: 2\n",
            "&: 2\n",
            "Analytics,: 1\n",
            "exercícios: 2\n",
            "fiz: 1\n",
            "AWS: 2\n",
            "Accreditation: 1\n",
            "Business.: 1\n",
            "normalizei: 1\n",
            "base: 1\n",
            "relacionais: 1\n",
            "a: 5\n",
            "linguagem: 2\n",
            "pode: 1\n",
            "ser: 1\n",
            "Fiz: 1\n",
            "25: 1\n",
            "com: 3\n",
            "níveis: 1\n",
            "dificuldade: 1\n",
            "desafio: 4\n",
            "analisei: 1\n",
            "arquivo: 1\n",
            "através: 3\n",
            "mais: 4\n",
            "classe,: 1\n",
            "alta: 1\n",
            "lambda,: 1\n",
            "filter: 1\n",
            "realizei: 3\n",
            "contêineres: 1\n",
            "Docker.: 1\n",
            "funcionam: 1\n",
            "diversos: 1\n",
            "serviços: 3\n",
            "oferece.: 1\n",
            "Pratiquei: 1\n",
            "CloudQuest: 1\n",
            "Estudei: 1\n",
            "serviço: 1\n",
            "praticando: 1\n",
            "esse: 1\n",
            "serviço.: 1\n",
            "me: 1\n",
            "conheci: 1\n",
            "novos: 1\n",
            "Quicksight,: 1\n",
            "além: 1\n",
            "cursos: 1\n",
            "Fundamentals: 1\n",
            "on: 1\n",
            "ingestão: 1\n",
            "utilizando: 1\n"
          ]
        }
      ],
      "source": [
        "words = rdd.flatMap(lambda line: line.split())\n",
        "word_counts = words.map(lambda word: (word, 1)).reduceByKey(lambda a, b: a + b)\n",
        "\n",
        "\n",
        "for word, count in word_counts.collect():\n",
        "    print(f\"{word}: {count}\")\n"
      ]
    },
    {
      "cell_type": "code",
      "execution_count": 13,
      "metadata": {
        "colab": {
          "base_uri": "https://localhost:8080/",
          "height": 17
        },
        "id": "FnLFSkvTzpJ8",
        "outputId": "48346d74-83c8-4d45-aeba-a2d1a0e83eb3"
      },
      "outputs": [
        {
          "data": {
            "application/javascript": "\n    async function download(id, filename, size) {\n      if (!google.colab.kernel.accessAllowed) {\n        return;\n      }\n      const div = document.createElement('div');\n      const label = document.createElement('label');\n      label.textContent = `Downloading \"${filename}\": `;\n      div.appendChild(label);\n      const progress = document.createElement('progress');\n      progress.max = size;\n      div.appendChild(progress);\n      document.body.appendChild(div);\n\n      const buffers = [];\n      let downloaded = 0;\n\n      const channel = await google.colab.kernel.comms.open(id);\n      // Send a message to notify the kernel that we're ready.\n      channel.send({})\n\n      for await (const message of channel.messages) {\n        // Send a message to notify the kernel that we're ready.\n        channel.send({})\n        if (message.buffers) {\n          for (const buffer of message.buffers) {\n            buffers.push(buffer);\n            downloaded += buffer.byteLength;\n            progress.value = downloaded;\n          }\n        }\n      }\n      const blob = new Blob(buffers, {type: 'application/binary'});\n      const a = document.createElement('a');\n      a.href = window.URL.createObjectURL(blob);\n      a.download = filename;\n      div.appendChild(a);\n      a.click();\n      div.remove();\n    }\n  ",
            "text/plain": [
              "<IPython.core.display.Javascript object>"
            ]
          },
          "metadata": {},
          "output_type": "display_data"
        },
        {
          "data": {
            "application/javascript": "download(\"download_21a62613-6aee-4836-a930-7dd8efa4e510\", \"palavras_contadas.txt\", 2694)",
            "text/plain": [
              "<IPython.core.display.Javascript object>"
            ]
          },
          "metadata": {},
          "output_type": "display_data"
        }
      ],
      "source": [
        "output_file = \"palavras_contadas.txt\"\n",
        "\n",
        "with open(output_file, \"w\") as f:\n",
        "    for word, count in word_counts.collect():\n",
        "        f.write(f\"{word}: {count}\\n\")\n",
        "\n",
        "from google.colab import files\n",
        "files.download(output_file)"
      ]
    },
    {
      "cell_type": "code",
      "execution_count": 14,
      "metadata": {
        "colab": {
          "base_uri": "https://localhost:8080/",
          "height": 17
        },
        "id": "cL_k8DRBHzwx",
        "outputId": "91b86d22-b2af-4dda-e9b8-6d6831798d9d"
      },
      "outputs": [
        {
          "data": {
            "application/javascript": "\n    async function download(id, filename, size) {\n      if (!google.colab.kernel.accessAllowed) {\n        return;\n      }\n      const div = document.createElement('div');\n      const label = document.createElement('label');\n      label.textContent = `Downloading \"${filename}\": `;\n      div.appendChild(label);\n      const progress = document.createElement('progress');\n      progress.max = size;\n      div.appendChild(progress);\n      document.body.appendChild(div);\n\n      const buffers = [];\n      let downloaded = 0;\n\n      const channel = await google.colab.kernel.comms.open(id);\n      // Send a message to notify the kernel that we're ready.\n      channel.send({})\n\n      for await (const message of channel.messages) {\n        // Send a message to notify the kernel that we're ready.\n        channel.send({})\n        if (message.buffers) {\n          for (const buffer of message.buffers) {\n            buffers.push(buffer);\n            downloaded += buffer.byteLength;\n            progress.value = downloaded;\n          }\n        }\n      }\n      const blob = new Blob(buffers, {type: 'application/binary'});\n      const a = document.createElement('a');\n      a.href = window.URL.createObjectURL(blob);\n      a.download = filename;\n      div.appendChild(a);\n      a.click();\n      div.remove();\n    }\n  ",
            "text/plain": [
              "<IPython.core.display.Javascript object>"
            ]
          },
          "metadata": {},
          "output_type": "display_data"
        },
        {
          "data": {
            "application/javascript": "download(\"download_212da4eb-f9b1-4e3c-90bd-8337873a0f87\", \"quantidade_palavras.csv\", 2795)",
            "text/plain": [
              "<IPython.core.display.Javascript object>"
            ]
          },
          "metadata": {},
          "output_type": "display_data"
        }
      ],
      "source": [
        "import csv\n",
        "from google.colab import files\n",
        "\n",
        "output_csv = \"quantidade_palavras.csv\"\n",
        "\n",
        "with open(output_csv, mode=\"w\", newline=\"\", encoding=\"utf-8\") as f:\n",
        "    writer = csv.writer(f)\n",
        "    writer.writerow([\"Palavra\", \"N. ocorrências\"])\n",
        "    for word, count in word_counts.collect():\n",
        "        writer.writerow([word, count])\n",
        "\n",
        "files.download(output_csv)\n"
      ]
    }
  ],
  "metadata": {
    "colab": {
      "provenance": []
    },
    "kernelspec": {
      "display_name": "Python 3",
      "name": "python3"
    },
    "language_info": {
      "name": "python"
    }
  },
  "nbformat": 4,
  "nbformat_minor": 0
}
